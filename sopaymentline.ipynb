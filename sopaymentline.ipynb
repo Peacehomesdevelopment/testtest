{
 "cells": [
  {
   "cell_type": "code",
   "execution_count": null,
   "metadata": {},
   "outputs": [],
   "source": [
    "<?xml version=\"1.0\" encoding=\"utf-8\"?>\n",
    "<odoo>\n",
    "    <data>\n",
    "        <!-- Add Payment Term Line to Sale Order Report -->\n",
    "        <template id=\"report_saleorder_document_inherit\" inherit_id=\"sale.report_saleorder_document\">\n",
    "            <xpath expr=\"//div[@class='col-xs-12 table-responsive']\" position=\"inside\">\n",
    "                <table class=\"table table-condensed mt32\">\n",
    "                    <thead>\n",
    "                        <tr>\n",
    "                            <th>Payment Term</th>\n",
    "                            <th>Value</th>\n",
    "                            <th>Days</th>\n",
    "                        </tr>\n",
    "                    </thead>\n",
    "                    <tbody>\n",
    "                        <tr t-foreach=\"o.payment_term_line\" t-as=\"p\">\n",
    "                            <td><span t-field=\"p.name\"/></td>\n",
    "                            <td><span t-field=\"p.value\"/></td>\n",
    "                            <td><span t-field=\"p.days\"/> Days</td>\n",
    "                        </tr>\n",
    "                    </tbody>\n",
    "                </table>\n",
    "            </xpath>\n",
    "        </template>\n",
    "    </data>\n",
    "</odoo>"
   ]
  }
 ],
 "metadata": {
  "language_info": {
   "name": "python"
  }
 },
 "nbformat": 4,
 "nbformat_minor": 2
}
